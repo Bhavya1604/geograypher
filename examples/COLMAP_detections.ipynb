{
 "cells": [
  {
   "cell_type": "markdown",
   "metadata": {},
   "source": [
    "# Imports"
   ]
  },
  {
   "cell_type": "code",
   "execution_count": null,
   "metadata": {},
   "outputs": [],
   "source": [
    "from pathlib import Path\n",
    "import pyvista as pv\n",
    "import pandas as pd\n",
    "\n",
    "from geograypher.constants import DATA_FOLDER\n",
    "from geograypher.cameras.derived_cameras import COLMAPCameraSet\n",
    "from geograypher.predictors.derived_segmentors import TabularRectangleSegmentor"
   ]
  },
  {
   "cell_type": "markdown",
   "metadata": {},
   "source": [
    "# Input data"
   ]
  },
  {
   "cell_type": "code",
   "execution_count": null,
   "metadata": {},
   "outputs": [],
   "source": [
    "COLMAP_EXAMPLE_DATA_FOLDER = Path(DATA_FOLDER, \"COLMAP_bird_detection\")\n",
    "# These are saved from the pycolmap model\n",
    "CAMERAS_FILE = Path(COLMAP_EXAMPLE_DATA_FOLDER, \"cameras.txt\")\n",
    "IMAGES_FILE = Path(COLMAP_EXAMPLE_DATA_FOLDER, \"images.txt\")\n",
    "POINTS_FILE = Path(COLMAP_EXAMPLE_DATA_FOLDER, \"points3D.txt\")\n",
    "# This is saved from the df of predictions\n",
    "DETECTIONS_FILE = Path(COLMAP_EXAMPLE_DATA_FOLDER, \"preds.csv\")\n",
    "IMAGE_FOLDER = Path(COLMAP_EXAMPLE_DATA_FOLDER, \"images\")"
   ]
  },
  {
   "cell_type": "markdown",
   "metadata": {},
   "source": [
    "# Show the COLMAP point cloud and the camera set"
   ]
  },
  {
   "cell_type": "code",
   "execution_count": null,
   "metadata": {
    "tags": []
   },
   "outputs": [],
   "source": [
    "# Create a set of cameras from the COLMAP exports\n",
    "camera_set = COLMAPCameraSet(\n",
    "    cameras_file=CAMERAS_FILE,\n",
    "    images_file=IMAGES_FILE,\n",
    "    image_folder=IMAGE_FOLDER,\n",
    "    validate_images=False,\n",
    ")\n",
    "\n",
    "# Load in the COLMAP sparse keypoints\n",
    "points_df = pd.read_csv(\n",
    "    POINTS_FILE,\n",
    "    sep=\" \",\n",
    "    header=None,\n",
    "    skiprows=[0, 1, 2],\n",
    "    names=(\"POINTS3D_ID\", \"X\", \"Y\", \"Z\", \"R\", \"G\", \"B\"),\n",
    "    usecols=list(range(7)),\n",
    ")\n",
    "# Create a pyvista object from the keypoints\n",
    "points_xyz = points_df[[\"X\", \"Y\", \"Z\"]].to_numpy()\n",
    "points_rgb = points_df[[\"R\", \"G\", \"B\"]].to_numpy()\n",
    "points_pv = pv.PointSet(points_xyz)\n",
    "\n",
    "# Create a plotter to show the 3D data\n",
    "plotter = pv.Plotter()\n",
    "pv.start_xvfb()\n",
    "# Show the keypoints\n",
    "plotter.add_mesh(points_pv, scalars=points_rgb, rgb=True)\n",
    "# Show the cameras\n",
    "camera_set.vis(show=True, frustum_scale=10, plotter=plotter)"
   ]
  },
  {
   "cell_type": "markdown",
   "metadata": {},
   "source": [
    "# Show the rays from each detection and their triangulated locations"
   ]
  },
  {
   "cell_type": "code",
   "execution_count": null,
   "metadata": {},
   "outputs": [],
   "source": [
    "# This object reads the detections exported in the DeepForest format\n",
    "detector = TabularRectangleSegmentor(\n",
    "    detection_file_or_folder=DETECTIONS_FILE, image_folder=IMAGE_FOLDER, image_shape=(8256, 5504), split_bbox=False\n",
    ")\n",
    "\n",
    "# Create a new plotter\n",
    "plotter = pv.Plotter()\n",
    "# Show the mesh\n",
    "plotter.add_mesh(points_pv, scalars=points_rgb, rgb=True)\n",
    "# Identify correspondences between detections and show them\n",
    "camera_set.triangulate_detections(\n",
    "    detector=detector, plotter=plotter, similarity_threshold_meters=0.1, vis_ray_length_meters=80\n",
    ")\n",
    "# Show the cameras\n",
    "# TODO determine why this must be shown after the triangulation stage for proper visualization\n",
    "camera_set.vis(show=True, frustum_scale=10, plotter=plotter)"
   ]
  }
 ],
 "metadata": {
  "kernelspec": {
   "display_name": "geograypher",
   "language": "python",
   "name": "python3"
  },
  "language_info": {
   "codemirror_mode": {
    "name": "ipython",
    "version": 3
   },
   "file_extension": ".py",
   "mimetype": "text/x-python",
   "name": "python",
   "nbconvert_exporter": "python",
   "pygments_lexer": "ipython3",
   "version": "3.9.19"
  }
 },
 "nbformat": 4,
 "nbformat_minor": 4
}
