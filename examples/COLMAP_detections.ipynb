{
 "cells": [
  {
   "cell_type": "markdown",
   "metadata": {},
   "source": [
    "# Imports"
   ]
  },
  {
   "cell_type": "code",
   "execution_count": 1,
   "metadata": {},
   "outputs": [
    {
     "name": "stderr",
     "output_type": "stream",
     "text": [
      "/ofo-share/repos-david/conda/envs/geograypher/lib/python3.9/site-packages/pyvista/plotting/plotter.py:149: UserWarning: \n",
      "This system does not appear to be running an xserver.\n",
      "PyVista will likely segfault when rendering.\n",
      "\n",
      "Try starting a virtual frame buffer with xvfb, or using\n",
      "  ``pyvista.start_xvfb()``\n",
      "\n",
      "  warnings.warn(\n"
     ]
    }
   ],
   "source": [
    "from pathlib import Path\n",
    "import pyvista as pv\n",
    "import pandas as pd\n",
    "\n",
    "from geograypher.cameras.derived_cameras import COLMAPCameraSet\n",
    "from geograypher.predictors.derived_segmentors import TabularRectangleSegmentor"
   ]
  },
  {
   "cell_type": "markdown",
   "metadata": {},
   "source": [
    "# Input data"
   ]
  },
  {
   "cell_type": "code",
   "execution_count": 2,
   "metadata": {},
   "outputs": [],
   "source": [
    "DATA_FOLDER = \"/ofo-share/repos-david/DoubleCounting/scratch\"\n",
    "IMAGE_FOLDER = \"/ofo-share/repos-david/DoubleCounting/tests/data\"\n",
    "# These are saved from the pycolmap model\n",
    "CAMERAS_FILE = Path(DATA_FOLDER, \"cameras.txt\")\n",
    "IMAGES_FILE = Path(DATA_FOLDER, \"images.txt\")\n",
    "POINTS_FILE = Path(DATA_FOLDER, \"points3D.txt\")\n",
    "# This is saved from the df of predictions\n",
    "DETECTIONS_FILE = Path(DATA_FOLDER, \"preds.csv\")"
   ]
  },
  {
   "cell_type": "code",
   "execution_count": 3,
   "metadata": {
    "tags": []
   },
   "outputs": [
    {
     "name": "stderr",
     "output_type": "stream",
     "text": [
      "/ofo-share/repos-david/conda/envs/geograypher/lib/python3.9/site-packages/pyvista/plotting/plotter.py:149: UserWarning: \n",
      "This system does not appear to be running an xserver.\n",
      "PyVista will likely segfault when rendering.\n",
      "\n",
      "Try starting a virtual frame buffer with xvfb, or using\n",
      "  ``pyvista.start_xvfb()``\n",
      "\n",
      "  warnings.warn(\n"
     ]
    },
    {
     "ename": "TypeError",
     "evalue": "__init__() got an unexpected keyword argument 'pred_file_or_folder'",
     "output_type": "error",
     "traceback": [
      "\u001b[0;31m---------------------------------------------------------------------------\u001b[0m",
      "\u001b[0;31mTypeError\u001b[0m                                 Traceback (most recent call last)",
      "Cell \u001b[0;32mIn[3], line 30\u001b[0m\n\u001b[1;32m     27\u001b[0m plotter\u001b[38;5;241m.\u001b[39madd_mesh(points_pv, scalars\u001b[38;5;241m=\u001b[39mpoints_rgb, rgb\u001b[38;5;241m=\u001b[39m\u001b[38;5;28;01mTrue\u001b[39;00m)\n\u001b[1;32m     29\u001b[0m \u001b[38;5;66;03m# This object reads the detections exported in the DeepForest format\u001b[39;00m\n\u001b[0;32m---> 30\u001b[0m segmentor \u001b[38;5;241m=\u001b[39m \u001b[43mTabularRectangleSegmentor\u001b[49m\u001b[43m(\u001b[49m\n\u001b[1;32m     31\u001b[0m \u001b[43m    \u001b[49m\u001b[43mpred_file_or_folder\u001b[49m\u001b[38;5;241;43m=\u001b[39;49m\u001b[43mDETECTIONS_FILE\u001b[49m\u001b[43m,\u001b[49m\u001b[43m \u001b[49m\u001b[43mimage_folder\u001b[49m\u001b[38;5;241;43m=\u001b[39;49m\u001b[43mIMAGE_FOLDER\u001b[49m\u001b[43m,\u001b[49m\u001b[43m \u001b[49m\u001b[43mimage_shape\u001b[49m\u001b[38;5;241;43m=\u001b[39;49m\u001b[43m(\u001b[49m\u001b[38;5;241;43m8256\u001b[39;49m\u001b[43m,\u001b[49m\u001b[43m \u001b[49m\u001b[38;5;241;43m5504\u001b[39;49m\u001b[43m)\u001b[49m\n\u001b[1;32m     32\u001b[0m \u001b[43m)\u001b[49m\n\u001b[1;32m     33\u001b[0m \u001b[38;5;66;03m# Identify correspondences between detections and show them\u001b[39;00m\n\u001b[1;32m     34\u001b[0m camera_set\u001b[38;5;241m.\u001b[39maggreate_detections(\n\u001b[1;32m     35\u001b[0m     segmentor\u001b[38;5;241m=\u001b[39msegmentor, plotter\u001b[38;5;241m=\u001b[39mplotter, similarity_threshold\u001b[38;5;241m=\u001b[39m\u001b[38;5;241m0.001\u001b[39m\n\u001b[1;32m     36\u001b[0m )\n",
      "\u001b[0;31mTypeError\u001b[0m: __init__() got an unexpected keyword argument 'pred_file_or_folder'"
     ]
    }
   ],
   "source": [
    "\n",
    "# Create a set of cameras from the COLMAP exports\n",
    "camera_set = COLMAPCameraSet(\n",
    "    cameras_file=CAMERAS_FILE,\n",
    "    images_file=IMAGES_FILE,\n",
    "    image_folder=IMAGE_FOLDER,\n",
    "    validate_images=False,\n",
    ")\n",
    "\n",
    "# Load in the COLMAP sparse keypoints\n",
    "points_df = pd.read_csv(\n",
    "    POINTS_FILE,\n",
    "    sep=\" \",\n",
    "    header=None,\n",
    "    skiprows=[0, 1, 2],\n",
    "    names=(\"POINTS3D_ID\", \"X\", \"Y\", \"Z\", \"R\", \"G\", \"B\"),\n",
    "    usecols=list(range(7)),\n",
    ")\n",
    "# Create a pyvista object from the keypoints\n",
    "points_xyz = points_df[[\"X\", \"Y\", \"Z\"]].to_numpy()\n",
    "points_rgb = points_df[[\"R\", \"G\", \"B\"]].to_numpy()\n",
    "points_pv = pv.PointSet(points_xyz)\n",
    "\n",
    "# Create a plotter to show the 3D data\n",
    "plotter = pv.Plotter()\n",
    "pv.start_xvfb()\n",
    "# Show the keypoints\n",
    "plotter.add_mesh(points_pv, scalars=points_rgb, rgb=True)\n",
    "\n",
    "# This object reads the detections exported in the DeepForest format\n",
    "segmentor = TabularRectangleSegmentor(\n",
    "    pred_file_or_folder=DETECTIONS_FILE, image_folder=IMAGE_FOLDER, image_shape=(8256, 5504)\n",
    ")\n",
    "# Identify correspondences between detections and show them\n",
    "camera_set.aggreate_detections(\n",
    "    segmentor=segmentor, plotter=plotter, similarity_threshold=0.001\n",
    ")\n",
    "# Show the cameras\n",
    "camera_set.vis(show=True, frustum_scale=10, plotter=plotter)"
   ]
  }
 ],
 "metadata": {
  "kernelspec": {
   "display_name": "geograypher",
   "language": "python",
   "name": "python3"
  },
  "language_info": {
   "codemirror_mode": {
    "name": "ipython",
    "version": 3
   },
   "file_extension": ".py",
   "mimetype": "text/x-python",
   "name": "python",
   "nbconvert_exporter": "python",
   "pygments_lexer": "ipython3",
   "version": "3.9.19"
  }
 },
 "nbformat": 4,
 "nbformat_minor": 4
}
