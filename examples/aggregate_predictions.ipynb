{
 "cells": [
  {
   "cell_type": "markdown",
   "metadata": {},
   "source": [
    "# General imports"
   ]
  },
  {
   "cell_type": "code",
   "execution_count": null,
   "metadata": {},
   "outputs": [],
   "source": [
    "import numpy as np\n",
    "from glob import glob\n",
    "from pathlib import Path\n",
    "\n",
    "from multiview_prediction_toolkit.cameras.derived_cameras import MetashapeCameraSet\n",
    "from multiview_prediction_toolkit.meshes import TexturedPhotogrammetryMesh\n",
    "from multiview_prediction_toolkit.config import DATA_FOLDER\n",
    "\n",
    "from multiview_prediction_toolkit.segmentation import (\n",
    "    LookUpSegmentor,\n",
    "    SegmentorPhotogrammetryCameraSet,\n",
    ")\n",
    "\n",
    "from multiview_prediction_toolkit.config import (\n",
    "    EXAMPLE_CAMERAS_FILENAME,\n",
    "    EXAMPLE_MESH_FILENAME,\n",
    ")"
   ]
  },
  {
   "cell_type": "markdown",
   "metadata": {},
   "source": [
    "# Processing parameters"
   ]
  },
  {
   "cell_type": "code",
   "execution_count": null,
   "metadata": {},
   "outputs": [],
   "source": [
    "# Processing parameters\n",
    "HEIGHT_ABOVE_GROUND_THRESH = 2\n",
    "MESH_DOWNSAMPLE_TARGET = 0.25\n",
    "AGGREGATE_IMAGE_SCALE = 0.25\n",
    "BUFFER_RADIUS_METER = 50\n",
    "NUM_CLASSES = 10\n",
    "\n",
    "CAMERAS_FILENAME = EXAMPLE_CAMERAS_FILENAME\n",
    "MESH_FILENAME = EXAMPLE_MESH_FILENAME\n",
    "IMAGE_FOLDER = EXAMPLE_IMAGE_FOLDER\n",
    "LABELS_FILENAME = EXAMPLE_LABELS_FILENAME\n",
    "PREDICTED_IMAGE_LABELS_FOLDER = EXAMPLE_PREDICTED_IMAGE_LABELS_FOLDER"
   ]
  },
  {
   "cell_type": "markdown",
   "metadata": {},
   "source": [
    "# Load the mesh"
   ]
  },
  {
   "cell_type": "code",
   "execution_count": null,
   "metadata": {},
   "outputs": [],
   "source": [
    "mesh = TexturedPhotogrammetryMesh(MESH_FILENAME)"
   ]
  },
  {
   "cell_type": "markdown",
   "metadata": {},
   "source": [
    "# Load the camera set and subsample"
   ]
  },
  {
   "cell_type": "code",
   "execution_count": null,
   "metadata": {},
   "outputs": [],
   "source": [
    "# Create camera set\n",
    "camera_set = MetashapeCameraSet(CAMERAS_FILENAME, IMAGE_FOLDER)\n",
    "# Extract cameras near the training data\n",
    "training_camera_set = camera_set.get_subset_near_geofile(\n",
    "    LABELS_FILENAME, buffer_radius_meters=BUFFER_RADIUS_METER\n",
    ")"
   ]
  },
  {
   "cell_type": "code",
   "execution_count": null,
   "metadata": {},
   "outputs": [],
   "source": [
    "mesh.vis(camera_set=camera_set, force_xvfb=True)"
   ]
  },
  {
   "cell_type": "code",
   "execution_count": null,
   "metadata": {},
   "outputs": [],
   "source": [
    "segmentor = LookUpSegmentor(\n",
    "    base_folder=IMAGE_FOLDER,\n",
    "    lookup_folder=PREDICTED_IMAGE_LABELS_FOLDER,\n",
    "    num_classes=NUM_CLASSES,\n",
    ")\n",
    "\n",
    "segmentor_camera_set = SegmentorPhotogrammetryCameraSet(\n",
    "    training_camera_set, segmentor=segmentor\n",
    ")"
   ]
  },
  {
   "cell_type": "code",
   "execution_count": null,
   "metadata": {},
   "outputs": [],
   "source": [
    "averaged_label_IDs, _, _ = mesh.aggregate_viewpoints_pytorch3d(\n",
    "    segmentor_camera_set,\n",
    "    image_scale=AGGREGATE_IMAGE_SCALE,\n",
    ")"
   ]
  },
  {
   "cell_type": "code",
   "execution_count": null,
   "metadata": {},
   "outputs": [],
   "source": [
    "max_class = np.argmax(averaged_label_IDs, axis=1, keepdims=True)\n",
    "mesh.vis(vis_scalars=max_class)"
   ]
  },
  {
   "cell_type": "markdown",
   "metadata": {},
   "source": [
    "# Export the prediction to a vector file"
   ]
  },
  {
   "cell_type": "markdown",
   "metadata": {},
   "source": [
    "# Compare the quality of the prediction with the ground truth"
   ]
  }
 ],
 "metadata": {
  "kernelspec": {
   "display_name": "MVPT-jupyter-2",
   "language": "python",
   "name": "mvpt-jupyter-2"
  },
  "language_info": {
   "codemirror_mode": {
    "name": "ipython",
    "version": 3
   },
   "file_extension": ".py",
   "mimetype": "text/x-python",
   "name": "python",
   "nbconvert_exporter": "python",
   "pygments_lexer": "ipython3",
   "version": "3.9.18"
  },
  "widgets": {
   "application/vnd.jupyter.widget-state+json": {
    "state": {},
    "version_major": 2,
    "version_minor": 0
   }
  }
 },
 "nbformat": 4,
 "nbformat_minor": 4
}
