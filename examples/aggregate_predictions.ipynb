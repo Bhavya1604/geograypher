{
 "cells": [
  {
   "cell_type": "code",
   "execution_count": 1,
   "metadata": {},
   "outputs": [
    {
     "name": "stderr",
     "output_type": "stream",
     "text": [
      "2023-11-08 21:16:08:rastervision.pipeline.rv_config: WARNING - Root temporary directory cannot be used: /opt/data/tmp. Using root: /tmp/tmp_tub9qv4\n"
     ]
    }
   ],
   "source": [
    "from glob import glob\n",
    "from pathlib import Path\n",
    "\n",
    "from multiview_prediction_toolkit.cameras.derived_cameras import MetashapeCameraSet\n",
    "from multiview_prediction_toolkit.meshes import TexturedPhotogrammetryMesh\n",
    "from multiview_prediction_toolkit.config import DATA_FOLDER\n",
    "\n",
    "from multiview_prediction_toolkit.segmentation import (\n",
    "    LookUpSegmentor,\n",
    "    SegmentorPhotogrammetryCameraSet,\n",
    ")"
   ]
  },
  {
   "cell_type": "code",
   "execution_count": 9,
   "metadata": {},
   "outputs": [],
   "source": [
    "# Processing parameters\n",
    "HEIGHT_ABOVE_GROUND_THRESH = 2\n",
    "MESH_DOWNSAMPLE_TARGET = 0.25\n",
    "AGGREGATE_IMAGE_SCALE = 0.25\n",
    "BUFFER_RADIUS_METER = 50\n",
    "NUM_CLASSES = 10\n",
    "\n",
    "## Raw input data\n",
    "# Path to labels from field data\n",
    "LABELS_FILENAME = Path(DATA_FOLDER, \"example_Emerald_Point_data\", \"inputs\", \"labels.geojson\")\n",
    "# The mesh exported from Metashape\n",
    "MESH_FILENAME = Path(DATA_FOLDER,\"example_Emerald_Point_data\", \"inputs\", \"mesh.ply\")\n",
    "# The camera file exported from Metashape\n",
    "CAMERAS_FILENAME = Path(DATA_FOLDER,\"example_Emerald_Point_data\", \"inputs\", \"cameras.xml\")\n",
    "# The digital elevation map exported by Metashape\n",
    "DTM_FILE = Path(DATA_FOLDER,\"example_Emerald_Point_data\", \"inputs\", \"dtm.tif\")\n",
    "# The image folder used to create the Metashape project\n",
    "IMAGE_FOLDER = Path(DATA_FOLDER,\"example_Emerald_Point_data\", \"inputs\", \"images\")\n",
    "\n",
    "## Intermediate data from previous steps\n",
    "PREDICTED_IMAGE_LABELS_FOLDER = Path(DATA_FOLDER, \"example_Emerald_Point_data\", \"intermediate_results\", \"predicted_segmentations\")"
   ]
  },
  {
   "cell_type": "code",
   "execution_count": 7,
   "metadata": {},
   "outputs": [
    {
     "name": "stderr",
     "output_type": "stream",
     "text": [
      "WARNING:root:No texture provided\n"
     ]
    }
   ],
   "source": [
    "mesh = TexturedPhotogrammetryMesh(MESH_FILENAME)"
   ]
  },
  {
   "cell_type": "code",
   "execution_count": 3,
   "metadata": {},
   "outputs": [
    {
     "name": "stderr",
     "output_type": "stream",
     "text": [
      "Loading GPS data for camera set: 100%|████████| 915/915 [00:10<00:00, 88.78it/s]\n"
     ]
    }
   ],
   "source": [
    "# Create camera set\n",
    "camera_set = MetashapeCameraSet(CAMERAS_FILENAME, IMAGE_FOLDER)\n",
    "# Extract cameras near the training data\n",
    "# TODO consider how to do the same thing with a mesh\n",
    "training_camera_set = camera_set.get_subset_near_geofile(\n",
    "    LABELS_FILENAME, buffer_radius_meters=BUFFER_RADIUS_METER\n",
    ")"
   ]
  },
  {
   "cell_type": "code",
   "execution_count": 11,
   "metadata": {},
   "outputs": [],
   "source": [
    "segmentor = LookUpSegmentor(\n",
    "    base_folder=IMAGE_FOLDER,\n",
    "    lookup_folder=PREDICTED_IMAGE_LABELS_FOLDER,\n",
    "    num_classes=NUM_CLASSES,\n",
    ")\n",
    "\n",
    "segmentor_camera_set = SegmentorPhotogrammetryCameraSet(\n",
    "    training_camera_set, segmentor=segmentor\n",
    ")"
   ]
  },
  {
   "cell_type": "code",
   "execution_count": null,
   "metadata": {},
   "outputs": [
    {
     "name": "stderr",
     "output_type": "stream",
     "text": [
      " 15%|█████▉                                   | 110/754 [03:24<22:04,  2.06s/it]"
     ]
    }
   ],
   "source": [
    "averaged_label_IDs, _, _ = mesh.aggregate_viewpoints_pytorch3d(\n",
    "    segmentor_camera_set,\n",
    "    image_scale=AGGREGATE_IMAGE_SCALE,\n",
    ")"
   ]
  },
  {
   "cell_type": "code",
   "execution_count": null,
   "metadata": {},
   "outputs": [],
   "source": []
  }
 ],
 "metadata": {
  "kernelspec": {
   "display_name": "MVPT-jupyter-2",
   "language": "python",
   "name": "mvpt-jupyter-2"
  },
  "language_info": {
   "codemirror_mode": {
    "name": "ipython",
    "version": 3
   },
   "file_extension": ".py",
   "mimetype": "text/x-python",
   "name": "python",
   "nbconvert_exporter": "python",
   "pygments_lexer": "ipython3",
   "version": "3.9.18"
  }
 },
 "nbformat": 4,
 "nbformat_minor": 2
}
