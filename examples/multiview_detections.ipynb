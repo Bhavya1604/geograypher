{
 "cells": [
  {
   "cell_type": "markdown",
   "metadata": {},
   "source": [
    "# Imports"
   ]
  },
  {
   "cell_type": "code",
   "execution_count": 1,
   "metadata": {},
   "outputs": [
    {
     "name": "stderr",
     "output_type": "stream",
     "text": [
      "/tmp/ipykernel_4164/3514485032.py:3: DeprecationWarning: \n",
      "Pyarrow will become a required dependency of pandas in the next major release of pandas (pandas 3.0),\n",
      "(to allow more performant data types, such as the Arrow string type, and better interoperability with other libraries)\n",
      "but was not found to be installed on your system.\n",
      "If this would cause problems for you,\n",
      "please provide us feedback at https://github.com/pandas-dev/pandas/issues/54466\n",
      "        \n",
      "  import pandas as pd\n",
      "/ofo-share/repos-david/conda/envs/geograypher/lib/python3.9/site-packages/pyvista/plotting/plotter.py:149: UserWarning: \n",
      "This system does not appear to be running an xserver.\n",
      "PyVista will likely segfault when rendering.\n",
      "\n",
      "Try starting a virtual frame buffer with xvfb, or using\n",
      "  ``pyvista.start_xvfb()``\n",
      "\n",
      "  warnings.warn(\n"
     ]
    }
   ],
   "source": [
    "from pathlib import Path\n",
    "import pyvista as pv\n",
    "import pandas as pd\n",
    "\n",
    "from geograypher.cameras.derived_cameras import COLMAPCameraSet\n",
    "from geograypher.segmentation.derived_segmentors import TabularRectangleSegmentor"
   ]
  },
  {
   "cell_type": "markdown",
   "metadata": {},
   "source": [
    "# Input data"
   ]
  },
  {
   "cell_type": "code",
   "execution_count": 2,
   "metadata": {},
   "outputs": [],
   "source": [
    "DATA_FOLDER = \"/ofo-share/repos-david/DoubleCounting/scratch\"\n",
    "IMAGE_FOLDER = \"/ofo-share/repos-david/DoubleCounting/tests/data\"\n",
    "# These are saved from the pycolmap model\n",
    "CAMERAS_FILE = Path(DATA_FOLDER, \"cameras.txt\")\n",
    "IMAGES_FILE = Path(DATA_FOLDER, \"images.txt\")\n",
    "POINTS_FILE = Path(DATA_FOLDER, \"points3D.txt\")\n",
    "# This is saved from the df of predictions\n",
    "PREDS_FILE = Path(DATA_FOLDER, \"preds.csv\")"
   ]
  },
  {
   "cell_type": "code",
   "execution_count": 3,
   "metadata": {
    "tags": []
   },
   "outputs": [
    {
     "name": "stderr",
     "output_type": "stream",
     "text": [
      "/ofo-share/repos-david/conda/envs/geograypher/lib/python3.9/site-packages/pyvista/plotting/plotter.py:149: UserWarning: \n",
      "This system does not appear to be running an xserver.\n",
      "PyVista will likely segfault when rendering.\n",
      "\n",
      "Try starting a virtual frame buffer with xvfb, or using\n",
      "  ``pyvista.start_xvfb()``\n",
      "\n",
      "  warnings.warn(\n",
      "  0%|          | 0/238 [00:00<?, ?it/s]/ofo-share/repos-david/geograypher/geograypher/utils/numeric.py:46: RuntimeWarning: invalid value encountered in scalar divide\n",
      "  a_scaler = (-ab * bc + ac * bb) / denominator\n",
      "/ofo-share/repos-david/geograypher/geograypher/utils/numeric.py:47: RuntimeWarning: invalid value encountered in scalar divide\n",
      "  b_scaler = (ab * ac - bc * aa) / denominator\n",
      "100%|██████████| 238/238 [00:00<00:00, 725.01it/s]"
     ]
    },
    {
     "ename": "",
     "evalue": "",
     "output_type": "error",
     "traceback": [
      "\u001b[1;31mThe Kernel crashed while executing code in the current cell or a previous cell. \n",
      "\u001b[1;31mPlease review the code in the cell(s) to identify a possible cause of the failure. \n",
      "\u001b[1;31mClick <a href='https://aka.ms/vscodeJupyterKernelCrash'>here</a> for more info. \n",
      "\u001b[1;31mView Jupyter <a href='command:jupyter.viewOutput'>log</a> for further details."
     ]
    }
   ],
   "source": [
    "\n",
    "camera_set = COLMAPCameraSet(\n",
    "    cameras_file=CAMERAS_FILE,\n",
    "    images_file=IMAGES_FILE,\n",
    "    image_folder=IMAGE_FOLDER,\n",
    "    validate_images=False,\n",
    ")\n",
    "\n",
    "points_df = pd.read_csv(\n",
    "    POINTS_FILE,\n",
    "    sep=\" \",\n",
    "    header=None,\n",
    "    skiprows=[0, 1, 2],\n",
    "    names=(\"POINTS3D_ID\", \"X\", \"Y\", \"Z\", \"R\", \"G\", \"B\"),\n",
    "    usecols=list(range(7)),\n",
    ")\n",
    "points_xyz = points_df[[\"X\", \"Y\", \"Z\"]].to_numpy()\n",
    "points_rgb = points_df[[\"R\", \"G\", \"B\"]].to_numpy()\n",
    "\n",
    "points_pv = pv.PointSet(points_xyz)\n",
    "plotter = pv.Plotter()\n",
    "#plotter.add_mesh(points_pv, scalars=points_rgb, rgb=True)\n",
    "\n",
    "\n",
    "segmentor = TabularRectangleSegmentor(\n",
    "    pred_file_or_folder=PREDS_FILE, image_folder=IMAGE_FOLDER, image_shape=(8256, 5504)\n",
    ")\n",
    "camera_set.aggreate_detections(\n",
    "    segmentor=segmentor, plotter=plotter, similarity_threshold=0.001\n",
    ")\n",
    "camera_set.vis(show=True, frustum_scale=10, plotter=plotter)"
   ]
  },
  {
   "cell_type": "code",
   "execution_count": null,
   "metadata": {},
   "outputs": [],
   "source": []
  }
 ],
 "metadata": {
  "kernelspec": {
   "display_name": "geograypher",
   "language": "python",
   "name": "python3"
  },
  "language_info": {
   "codemirror_mode": {
    "name": "ipython",
    "version": 3
   },
   "file_extension": ".py",
   "mimetype": "text/x-python",
   "name": "python",
   "nbconvert_exporter": "python",
   "pygments_lexer": "ipython3",
   "version": "3.9.18"
  }
 },
 "nbformat": 4,
 "nbformat_minor": 4
}
