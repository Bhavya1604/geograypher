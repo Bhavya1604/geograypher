{
 "cells": [
  {
   "cell_type": "markdown",
   "metadata": {},
   "source": [
    "# Imports"
   ]
  },
  {
   "cell_type": "code",
   "execution_count": 1,
   "metadata": {},
   "outputs": [],
   "source": [
    "from pathlib import Path\n",
    "\n",
    "from tqdm import tqdm\n",
    "import numpy as np\n",
    "import matplotlib\n",
    "from scipy.spatial.transform import Rotation\n",
    "\n",
    "from multiview_mapping_toolkit.constants import MATPLOTLIB_PALLETE, VIS_FOLDER\n",
    "from multiview_mapping_toolkit.utils.example_data import (\n",
    "    create_non_overlapping_points,\n",
    "    create_scene_mesh,\n",
    ")\n",
    "from multiview_mapping_toolkit.cameras.cameras import PhotogrammetryCameraSet\n",
    "from multiview_mapping_toolkit.meshes.meshes import TexturedPhotogrammetryMesh\n",
    "from multiview_mapping_toolkit.segmentation.derived_segmentors import LookUpSegmentor\n",
    "from multiview_mapping_toolkit.segmentation.segmentor import (\n",
    "    SegmentorPhotogrammetryCameraSet,\n",
    ")"
   ]
  },
  {
   "cell_type": "markdown",
   "metadata": {},
   "source": [
    "# Config options"
   ]
  },
  {
   "cell_type": "code",
   "execution_count": 2,
   "metadata": {},
   "outputs": [],
   "source": [
    "# Where to save content\n",
    "CONCEPT_FIGURE_ROOT = Path(VIS_FOLDER, \"concept_figure_content\")\n",
    "IMAGE_FOLDER = Path(CONCEPT_FIGURE_ROOT, \"realistic_images\")\n",
    "FIGURES_SAVE_FOLDER = Path(CONCEPT_FIGURE_ROOT, \"figures\")\n",
    "LABEL_IMAGES_FOLDER = Path(CONCEPT_FIGURE_ROOT, \"labeled_images\")\n",
    "\n",
    "# Save vis or show them in the notebook\n",
    "SAVE_VIS = True\n",
    "\n",
    "# Number of map elements\n",
    "N_BOXES = 5\n",
    "N_CYLINDERS = 5\n",
    "N_CONES = 5\n",
    "# Random seed for object locations\n",
    "MAP_RANDOM_SEED = 42\n",
    "# Discritization of the ground plane\n",
    "GROUND_RESOLUTION = 200\n",
    "\n",
    "# Range of hues for each object\n",
    "HUE_RANGE_DICT = {\"cone\": 0.1, \"cylinder\": 0.2, \"cube\": 0.1}\n",
    "# Only used for realist\n",
    "REALISTIC_COLOR_DICT = {\n",
    "    \"cone\": MATPLOTLIB_PALLETE[0],\n",
    "    \"cylinder\": MATPLOTLIB_PALLETE[2],\n",
    "    \"cube\": MATPLOTLIB_PALLETE[1],\n",
    "}\n",
    "\n",
    "# Camera set params\n",
    "CAM_HEIGHT = 10\n",
    "CAM_DIST_FROM_CENTER = 10\n",
    "CAM_PITCH = 225\n",
    "\n",
    "CAM_INTRINSICS = {\n",
    "    0: {\"f\": 4000, \"cx\": 0, \"cy\": 0, \"image_width\": 3000, \"image_height\": 2200}\n",
    "}"
   ]
  },
  {
   "cell_type": "markdown",
   "metadata": {},
   "source": [
    "# Create the example data"
   ]
  },
  {
   "cell_type": "code",
   "execution_count": 3,
   "metadata": {},
   "outputs": [],
   "source": [
    "points = create_non_overlapping_points(\n",
    "    n_points=(N_BOXES + N_CYLINDERS + N_CONES), random_seed=MAP_RANDOM_SEED\n",
    ")\n",
    "\n",
    "mesh, labels_gdf = create_scene_mesh(\n",
    "    box_centers=points[:N_BOXES],\n",
    "    cylinder_centers=points[N_BOXES : (N_BOXES + N_CYLINDERS)],\n",
    "    cone_centers=points[(N_BOXES + N_CYLINDERS) : (N_BOXES + N_CYLINDERS + N_CONES)],\n",
    "    add_ground=True,\n",
    "    ground_resolution=GROUND_RESOLUTION,\n",
    ")"
   ]
  },
  {
   "cell_type": "markdown",
   "metadata": {},
   "source": [
    "# Define the colors for the \"realistic\" views"
   ]
  },
  {
   "cell_type": "code",
   "execution_count": 4,
   "metadata": {},
   "outputs": [],
   "source": [
    "def make_color_gradient(color, number, hue_range=None):\n",
    "    if hue_range is None:\n",
    "        hue_range = 1 / (number * 2)\n",
    "\n",
    "    hsv_color = matplotlib.colors.rgb_to_hsv(color)\n",
    "    hue_start = hsv_color[0] - hue_range / 2\n",
    "    hue_end = hsv_color[0] + hue_range / 2\n",
    "    hues = np.linspace(hue_start, hue_end, number) % 1.0\n",
    "    shifted_HSVs = [np.concatenate(([hue], hsv_color[1:]), axis=0) for hue in hues]\n",
    "    rgb_values = [\n",
    "        matplotlib.colors.hsv_to_rgb(shifted_hue) for shifted_hue in shifted_HSVs\n",
    "    ]\n",
    "    rgb_values = np.vstack(rgb_values)\n",
    "\n",
    "    rgb_values = rgb_values / 255.0\n",
    "\n",
    "    return rgb_values\n",
    "\n",
    "colors_per_face = np.full((mesh.n_cells, 3), fill_value=0.5)\n",
    "IDs_per_face = np.full((mesh.n_cells, 1), fill_value=np.nan)\n",
    "\n",
    "for i, (name, group) in enumerate(labels_gdf.groupby(\"name\")):\n",
    "    num = len(group)\n",
    "    gradient = make_color_gradient(\n",
    "        REALISTIC_COLOR_DICT[name], num, hue_range=HUE_RANGE_DICT[name]\n",
    "    )\n",
    "    # Indices into the original dataset\n",
    "    IDs = group.index.to_numpy()\n",
    "    # TODO rename\n",
    "    for ID, color in zip(IDs, gradient):\n",
    "        matching = mesh[\"ID\"] == ID\n",
    "        colors_per_face[matching, :] = color\n",
    "        IDs_per_face[matching, :] = i"
   ]
  },
  {
   "cell_type": "markdown",
   "metadata": {},
   "source": [
    "# Show the 2D map"
   ]
  },
  {
   "cell_type": "code",
   "execution_count": 5,
   "metadata": {},
   "outputs": [
    {
     "data": {
      "text/plain": [
       "<Axes: >"
      ]
     },
     "execution_count": 5,
     "metadata": {},
     "output_type": "execute_result"
    },
    {
     "data": {
      "image/png": "[encoded data removed]",
      "text/plain": [
       "<Figure size 640x480 with 1 Axes>"
      ]
     },
     "metadata": {},
     "output_type": "display_data"
    }
   ],
   "source": [
    "labels_gdf.plot(\"name\", legend=True, cmap=\"tab10\", vmin=0, vmax=9)"
   ]
  },
  {
   "cell_type": "markdown",
   "metadata": {},
   "source": [
    "# Create a set of virtual cameras"
   ]
  },
  {
   "cell_type": "code",
   "execution_count": 6,
   "metadata": {},
   "outputs": [],
   "source": [
    "# Create translations\n",
    "t_vecs = (\n",
    "    (0, 0, CAM_HEIGHT),\n",
    "    (0, CAM_DIST_FROM_CENTER, CAM_HEIGHT),\n",
    "    (CAM_DIST_FROM_CENTER, 0, CAM_HEIGHT),\n",
    "    (-CAM_DIST_FROM_CENTER, 0, CAM_HEIGHT),\n",
    "    (0, -CAM_DIST_FROM_CENTER, CAM_HEIGHT),\n",
    ")\n",
    "# Create rotations in roll, pitch, yaw convention\n",
    "r_vecs = (\n",
    "    (180, 180, 0),  # nadir\n",
    "    (180, CAM_PITCH, 0),  # oblique\n",
    "    (90, CAM_PITCH, 0),  # oblique\n",
    "    (270, CAM_PITCH, 0),  # oblique\n",
    "    (0, CAM_PITCH, 0),  # oblique\n",
    ")\n",
    "\n",
    "# Create 4x4 transforms\n",
    "cam_to_world_transforms = []\n",
    "for r_vec, t_vec in zip(r_vecs, t_vecs):\n",
    "    r_mat = Rotation.from_euler(\"ZXY\", r_vec, degrees=True).as_matrix()\n",
    "    transform = np.eye(4)\n",
    "    transform[:3, :3] = r_mat\n",
    "    transform[:3, 3] = t_vec\n",
    "    cam_to_world_transforms.append(transform)\n",
    "\n",
    "IMAGE_FOLDER.mkdir(exist_ok=True, parents=True)\n",
    "# Note that these files do not exist yet, but will be later created\n",
    "image_filenames = [Path(IMAGE_FOLDER, f\"img_{i:03d}.png\") for i in range(5)]\n",
    "\n",
    "camera_set = PhotogrammetryCameraSet(\n",
    "    cam_to_world_transforms=cam_to_world_transforms,\n",
    "    intrinsic_params_per_sensor_type=CAM_INTRINSICS,\n",
    "    image_folder=IMAGE_FOLDER,\n",
    "    image_filenames=image_filenames,\n",
    ")"
   ]
  },
  {
   "cell_type": "markdown",
   "metadata": {},
   "source": [
    "# Create a colored mesh with a \"realistic\" textuer"
   ]
  },
  {
   "cell_type": "code",
   "execution_count": 7,
   "metadata": {},
   "outputs": [
    {
     "name": "stdout",
     "output_type": "stream",
     "text": [
      "Loading transform to EPSG:4326\n",
      "Loading mesh\n",
      "Selecting an ROI from mesh\n",
      "Extracting faces from mesh\n",
      "Loading texture\n"
     ]
    },
    {
     "data": {
      "application/vnd.jupyter.widget-view+json": {
       "model_id": "f8c098af12dd472c97701480b867b1bb",
       "version_major": 2,
       "version_minor": 0
      },
      "text/plain": [
       "Widget(value=\"<iframe src='http://localhost:38031/index.html?ui=P_0x7fd792b5bdc0_0&reconnect=auto' style='widt…"
      ]
     },
     "metadata": {},
     "output_type": "display_data"
    }
   ],
   "source": [
    "realistic_mesh = TexturedPhotogrammetryMesh(mesh, texture=colors_per_face)\n",
    "realistic_mesh.vis(\n",
    "    force_xvfb=True,\n",
    "    camera_set=camera_set,\n",
    "    screenshot_filename=Path(FIGURES_SAVE_FOLDER, \"realistic_scene.png\"),\n",
    ")"
   ]
  },
  {
   "cell_type": "markdown",
   "metadata": {},
   "source": [
    "# Create a mesh textured with the labels"
   ]
  },
  {
   "cell_type": "code",
   "execution_count": 8,
   "metadata": {},
   "outputs": [
    {
     "name": "stdout",
     "output_type": "stream",
     "text": [
      "Loading transform to EPSG:4326\n",
      "Loading mesh\n",
      "Selecting an ROI from mesh\n",
      "Extracting faces from mesh\n",
      "Loading texture\n",
      "This method will be deprecated in favor of get_IDs_to_labels since it doesn't handle non-sequential indices\n"
     ]
    },
    {
     "data": {
      "application/vnd.jupyter.widget-view+json": {
       "model_id": "176569d37824469aac332120c02047e3",
       "version_major": 2,
       "version_minor": 0
      },
      "text/plain": [
       "Widget(value=\"<iframe src='http://localhost:38031/index.html?ui=P_0x7fd87808fe20_1&reconnect=auto' style='widt…"
      ]
     },
     "metadata": {},
     "output_type": "display_data"
    }
   ],
   "source": [
    "labeled_mesh = TexturedPhotogrammetryMesh(\n",
    "    mesh, texture=IDs_per_face, IDs_to_labels={0: \"cone\", 1: \"cube\", 2: \"cylinder\"}\n",
    ")\n",
    "labeled_mesh.vis(\n",
    "    force_xvfb=True,\n",
    "    camera_set=camera_set,\n",
    "    screenshot_filename=Path(FIGURES_SAVE_FOLDER, \"labeled_scene.png\"),\n",
    ")"
   ]
  },
  {
   "cell_type": "markdown",
   "metadata": {},
   "source": [
    "# Render from the camera viewpoints"
   ]
  },
  {
   "cell_type": "code",
   "execution_count": 9,
   "metadata": {},
   "outputs": [
    {
     "name": "stderr",
     "output_type": "stream",
     "text": [
      "Rendering labels from each viewpoint: 100%|██████████| 5/5 [00:57<00:00, 11.45s/it]\n"
     ]
    }
   ],
   "source": [
    "import matplotlib.pyplot as plt\n",
    "from imageio import imwrite\n",
    "\n",
    "FIGURES_SAVE_FOLDER.mkdir(exist_ok=True, parents=True)\n",
    "LABEL_IMAGES_FOLDER.mkdir(exist_ok=True, parents=True)\n",
    "\n",
    "for i in tqdm(range(5), desc=\"Rendering labels from each viewpoint\"):\n",
    "    # Do the three types of rendering\n",
    "    label_render = labeled_mesh.render_pytorch3d(\n",
    "        camera_set,\n",
    "        i,\n",
    "        shade_by_indexing=True,\n",
    "    )\n",
    "    flat_texture_render = realistic_mesh.render_pytorch3d(\n",
    "        camera_set, i, shade_by_indexing=True\n",
    "    )\n",
    "    realistic_render = realistic_mesh.render_pyvista(camera_set, i, enable_ssao=True)\n",
    "\n",
    "    # Save out an integer label image\n",
    "    label_render_for_saving = label_render.copy()\n",
    "    label_render_for_saving[np.logical_not(np.isfinite(label_render_for_saving))] = 255\n",
    "    label_render_for_saving = label_render_for_saving.astype(np.uint8)\n",
    "    imwrite(Path(LABEL_IMAGES_FOLDER, f\"img_{i:03d}.png\"), label_render_for_saving)\n",
    "    # Save out the rendered \"realistic imager\"\n",
    "    image_path = camera_set.get_image_filename(i, absolute=True)\n",
    "    imwrite(image_path, realistic_render)\n",
    "\n",
    "    # Save or vis the figures\n",
    "    plt.axis(\"off\")\n",
    "    plt.tight_layout()\n",
    "    plt.imshow(flat_texture_render)\n",
    "\n",
    "    if SAVE_VIS:\n",
    "        plt.savefig(Path(FIGURES_SAVE_FOLDER, f\"texture_render_flat_{i:03d}.png\"))\n",
    "        plt.close()\n",
    "    else:\n",
    "        plt.show()\n",
    "\n",
    "    plt.axis(\"off\")\n",
    "    plt.tight_layout()\n",
    "    plt.imshow(\n",
    "        label_render,\n",
    "        cmap=\"tab10\",\n",
    "        vmin=0,\n",
    "        vmax=9,\n",
    "        interpolation=\"none\",\n",
    "    )\n",
    "    if SAVE_VIS:\n",
    "        plt.savefig(Path(FIGURES_SAVE_FOLDER, f\"class_render_flat{i:03d}.png\"))\n",
    "        plt.close()\n",
    "    else:\n",
    "        plt.show()\n",
    "\n",
    "    plt.axis(\"off\")\n",
    "    plt.tight_layout()\n",
    "    plt.imshow(realistic_render)\n",
    "    if SAVE_VIS:\n",
    "        plt.savefig(Path(FIGURES_SAVE_FOLDER, f\"texture_render_realistic_{i:03d}.png\"))\n",
    "        plt.close()\n",
    "    else:\n",
    "        plt.show()"
   ]
  },
  {
   "cell_type": "markdown",
   "metadata": {},
   "source": [
    "# Create a segmentor that looks up labeled images"
   ]
  },
  {
   "cell_type": "code",
   "execution_count": 10,
   "metadata": {},
   "outputs": [
    {
     "name": "stdout",
     "output_type": "stream",
     "text": [
      "Loading transform to EPSG:4326\n",
      "Loading mesh\n",
      "Selecting an ROI from mesh\n",
      "Extracting faces from mesh\n",
      "Loading texture\n"
     ]
    }
   ],
   "source": [
    "segmentor = LookUpSegmentor(IMAGE_FOLDER, LABEL_IMAGES_FOLDER, num_classes=3)\n",
    "segmentor_camera_set = SegmentorPhotogrammetryCameraSet(camera_set, segmentor)\n",
    "aggregation_mesh = TexturedPhotogrammetryMesh(mesh=mesh)"
   ]
  },
  {
   "cell_type": "markdown",
   "metadata": {},
   "source": [
    "# Show which faces were projected onto at all"
   ]
  },
  {
   "cell_type": "code",
   "execution_count": 11,
   "metadata": {},
   "outputs": [
    {
     "name": "stderr",
     "output_type": "stream",
     "text": [
      "Aggregating information from different viewpoints: 100%|██████████| 1/1 [00:00<00:00,  1.32it/s]\n",
      "/ofo-share/repos-rahul/multiview-mapping-toolkit/multiview_mapping_toolkit/meshes/meshes.py:1266: RuntimeWarning: invalid value encountered in divide\n",
      "  normalized_face_texture = face_texture / np.expand_dims(counts, 1)\n"
     ]
    },
    {
     "data": {
      "application/vnd.jupyter.widget-view+json": {
       "model_id": "cfd58e76110a45c29e5df33acd1fae07",
       "version_major": 2,
       "version_minor": 0
      },
      "text/plain": [
       "Widget(value=\"<iframe src='http://localhost:38031/index.html?ui=P_0x7fd8780961f0_7&reconnect=auto' style='widt…"
      ]
     },
     "metadata": {},
     "output_type": "display_data"
    },
    {
     "name": "stderr",
     "output_type": "stream",
     "text": [
      "Aggregating information from different viewpoints: 100%|██████████| 1/1 [00:00<00:00,  1.53it/s]\n",
      "/ofo-share/repos-rahul/multiview-mapping-toolkit/multiview_mapping_toolkit/meshes/meshes.py:1266: RuntimeWarning: invalid value encountered in divide\n",
      "  normalized_face_texture = face_texture / np.expand_dims(counts, 1)\n"
     ]
    },
    {
     "data": {
      "application/vnd.jupyter.widget-view+json": {
       "model_id": "a8725c03dbba42689edaab8297f6916d",
       "version_major": 2,
       "version_minor": 0
      },
      "text/plain": [
       "Widget(value=\"<iframe src='http://localhost:38031/index.html?ui=P_0x7fd7800bdc10_8&reconnect=auto' style='widt…"
      ]
     },
     "metadata": {},
     "output_type": "display_data"
    },
    {
     "name": "stderr",
     "output_type": "stream",
     "text": [
      "Aggregating information from different viewpoints: 100%|██████████| 1/1 [00:00<00:00,  1.53it/s]\n",
      "/ofo-share/repos-rahul/multiview-mapping-toolkit/multiview_mapping_toolkit/meshes/meshes.py:1266: RuntimeWarning: invalid value encountered in divide\n",
      "  normalized_face_texture = face_texture / np.expand_dims(counts, 1)\n"
     ]
    },
    {
     "data": {
      "application/vnd.jupyter.widget-view+json": {
       "model_id": "d9b9fd06f3494fe7911d2c8dd216121b",
       "version_major": 2,
       "version_minor": 0
      },
      "text/plain": [
       "Widget(value=\"<iframe src='http://localhost:38031/index.html?ui=P_0x7fd72073a9d0_9&reconnect=auto' style='widt…"
      ]
     },
     "metadata": {},
     "output_type": "display_data"
    },
    {
     "name": "stderr",
     "output_type": "stream",
     "text": [
      "Aggregating information from different viewpoints: 100%|██████████| 1/1 [00:00<00:00,  1.49it/s]\n",
      "/ofo-share/repos-rahul/multiview-mapping-toolkit/multiview_mapping_toolkit/meshes/meshes.py:1266: RuntimeWarning: invalid value encountered in divide\n",
      "  normalized_face_texture = face_texture / np.expand_dims(counts, 1)\n"
     ]
    },
    {
     "data": {
      "application/vnd.jupyter.widget-view+json": {
       "model_id": "bda56ac95965415d89726ddd7345393d",
       "version_major": 2,
       "version_minor": 0
      },
      "text/plain": [
       "Widget(value=\"<iframe src='http://localhost:38031/index.html?ui=P_0x7fd78b162df0_10&reconnect=auto' style='wid…"
      ]
     },
     "metadata": {},
     "output_type": "display_data"
    },
    {
     "name": "stderr",
     "output_type": "stream",
     "text": [
      "Aggregating information from different viewpoints: 100%|██████████| 1/1 [00:00<00:00,  1.16it/s]\n",
      "/ofo-share/repos-rahul/multiview-mapping-toolkit/multiview_mapping_toolkit/meshes/meshes.py:1266: RuntimeWarning: invalid value encountered in divide\n",
      "  normalized_face_texture = face_texture / np.expand_dims(counts, 1)\n"
     ]
    },
    {
     "data": {
      "application/vnd.jupyter.widget-view+json": {
       "model_id": "575a53622aa74c529dacc0c331862924",
       "version_major": 2,
       "version_minor": 0
      },
      "text/plain": [
       "Widget(value=\"<iframe src='http://localhost:38031/index.html?ui=P_0x7fd792c2a4c0_11&reconnect=auto' style='wid…"
      ]
     },
     "metadata": {},
     "output_type": "display_data"
    }
   ],
   "source": [
    "for i in range(5):\n",
    "    sub_camera_set = segmentor_camera_set.get_subset_cameras([i])\n",
    "    (\n",
    "        normalized_face_texture,\n",
    "        face_texture,\n",
    "        counts,\n",
    "    ) = aggregation_mesh.aggregate_viewpoints_pytorch3d(sub_camera_set)\n",
    "    aggregation_mesh.vis(\n",
    "        vis_scalars=counts,\n",
    "        camera_set=sub_camera_set,\n",
    "        screenshot_filename=Path(FIGURES_SAVE_FOLDER, f\"view_shadows_scene_{i:03d}.png\"),\n",
    "    )"
   ]
  },
  {
   "cell_type": "code",
   "execution_count": 12,
   "metadata": {},
   "outputs": [
    {
     "name": "stderr",
     "output_type": "stream",
     "text": [
      "Aggregating information from different viewpoints: 100%|██████████| 1/1 [00:00<00:00,  1.40it/s]\n",
      "/ofo-share/repos-rahul/multiview-mapping-toolkit/multiview_mapping_toolkit/meshes/meshes.py:1266: RuntimeWarning: invalid value encountered in divide\n",
      "  normalized_face_texture = face_texture / np.expand_dims(counts, 1)\n"
     ]
    },
    {
     "data": {
      "application/vnd.jupyter.widget-view+json": {
       "model_id": "6e156b3aaf2a4beea3eec984dc1021de",
       "version_major": 2,
       "version_minor": 0
      },
      "text/plain": [
       "Widget(value=\"<iframe src='http://localhost:38031/index.html?ui=P_0x7fd720566dc0_12&reconnect=auto' style='wid…"
      ]
     },
     "metadata": {},
     "output_type": "display_data"
    },
    {
     "name": "stderr",
     "output_type": "stream",
     "text": [
      "Aggregating information from different viewpoints: 100%|██████████| 1/1 [00:00<00:00,  1.50it/s]\n",
      "/ofo-share/repos-rahul/multiview-mapping-toolkit/multiview_mapping_toolkit/meshes/meshes.py:1266: RuntimeWarning: invalid value encountered in divide\n",
      "  normalized_face_texture = face_texture / np.expand_dims(counts, 1)\n"
     ]
    },
    {
     "data": {
      "application/vnd.jupyter.widget-view+json": {
       "model_id": "56c701216485466d8b98f3618be844e8",
       "version_major": 2,
       "version_minor": 0
      },
      "text/plain": [
       "Widget(value=\"<iframe src='http://localhost:38031/index.html?ui=P_0x7fd72051dc70_13&reconnect=auto' style='wid…"
      ]
     },
     "metadata": {},
     "output_type": "display_data"
    },
    {
     "name": "stderr",
     "output_type": "stream",
     "text": [
      "Aggregating information from different viewpoints: 100%|██████████| 1/1 [00:00<00:00,  1.49it/s]\n",
      "/ofo-share/repos-rahul/multiview-mapping-toolkit/multiview_mapping_toolkit/meshes/meshes.py:1266: RuntimeWarning: invalid value encountered in divide\n",
      "  normalized_face_texture = face_texture / np.expand_dims(counts, 1)\n"
     ]
    },
    {
     "data": {
      "application/vnd.jupyter.widget-view+json": {
       "model_id": "bab70aa239964643a0577de12fc4cb0f",
       "version_major": 2,
       "version_minor": 0
      },
      "text/plain": [
       "Widget(value=\"<iframe src='http://localhost:38031/index.html?ui=P_0x7fd78b062850_14&reconnect=auto' style='wid…"
      ]
     },
     "metadata": {},
     "output_type": "display_data"
    },
    {
     "name": "stderr",
     "output_type": "stream",
     "text": [
      "Aggregating information from different viewpoints: 100%|██████████| 1/1 [00:00<00:00,  1.43it/s]\n",
      "/ofo-share/repos-rahul/multiview-mapping-toolkit/multiview_mapping_toolkit/meshes/meshes.py:1266: RuntimeWarning: invalid value encountered in divide\n",
      "  normalized_face_texture = face_texture / np.expand_dims(counts, 1)\n"
     ]
    },
    {
     "data": {
      "application/vnd.jupyter.widget-view+json": {
       "model_id": "bb0a42a1d7a749fcb88a22f0b1401b73",
       "version_major": 2,
       "version_minor": 0
      },
      "text/plain": [
       "Widget(value=\"<iframe src='http://localhost:38031/index.html?ui=P_0x7fd72059ccd0_15&reconnect=auto' style='wid…"
      ]
     },
     "metadata": {},
     "output_type": "display_data"
    },
    {
     "name": "stderr",
     "output_type": "stream",
     "text": [
      "Aggregating information from different viewpoints: 100%|██████████| 1/1 [00:00<00:00,  1.47it/s]\n",
      "/ofo-share/repos-rahul/multiview-mapping-toolkit/multiview_mapping_toolkit/meshes/meshes.py:1266: RuntimeWarning: invalid value encountered in divide\n",
      "  normalized_face_texture = face_texture / np.expand_dims(counts, 1)\n"
     ]
    },
    {
     "data": {
      "application/vnd.jupyter.widget-view+json": {
       "model_id": "a26254e3134d44e5b49d16a9a506dbfa",
       "version_major": 2,
       "version_minor": 0
      },
      "text/plain": [
       "Widget(value=\"<iframe src='http://localhost:38031/index.html?ui=P_0x7fd7205bcc70_16&reconnect=auto' style='wid…"
      ]
     },
     "metadata": {},
     "output_type": "display_data"
    }
   ],
   "source": [
    "for i in range(5):\n",
    "    sub_camera_set = segmentor_camera_set.get_subset_cameras([i])\n",
    "    (\n",
    "        normalized_face_texture,\n",
    "        face_texture,\n",
    "        counts,\n",
    "    ) = aggregation_mesh.aggregate_viewpoints_pytorch3d(sub_camera_set)\n",
    "    max_class = np.argmax(face_texture, axis=1).astype(float)\n",
    "    zeros_mask = np.sum(face_texture, axis=1) == 0\n",
    "    max_class[zeros_mask] = np.nan\n",
    "    aggregation_mesh.vis(\n",
    "        vis_scalars=max_class,\n",
    "        camera_set=sub_camera_set,\n",
    "        force_xvfb=True,\n",
    "        mesh_kwargs={\"cmap\": \"tab10\", \"clim\": (0, 9)},\n",
    "        screenshot_filename=Path(FIGURES_SAVE_FOLDER, f\"aggregated_predicted_scene_{i:03d}.png\"),  \n",
    "    )"
   ]
  },
  {
   "cell_type": "markdown",
   "metadata": {},
   "source": [
    "# Show aggregated viewpoint"
   ]
  },
  {
   "cell_type": "code",
   "execution_count": 13,
   "metadata": {},
   "outputs": [
    {
     "name": "stderr",
     "output_type": "stream",
     "text": [
      "Aggregating information from different viewpoints: 100%|██████████| 5/5 [00:03<00:00,  1.38it/s]\n",
      "/ofo-share/repos-rahul/multiview-mapping-toolkit/multiview_mapping_toolkit/meshes/meshes.py:1266: RuntimeWarning: invalid value encountered in divide\n",
      "  normalized_face_texture = face_texture / np.expand_dims(counts, 1)\n"
     ]
    },
    {
     "data": {
      "application/vnd.jupyter.widget-view+json": {
       "model_id": "139eec2ca4b943208d47ae44593e4669",
       "version_major": 2,
       "version_minor": 0
      },
      "text/plain": [
       "Widget(value=\"<iframe src='http://localhost:38031/index.html?ui=P_0x7fd720488730_17&reconnect=auto' style='wid…"
      ]
     },
     "metadata": {},
     "output_type": "display_data"
    }
   ],
   "source": [
    "(\n",
    "    normalized_face_texture,\n",
    "    face_texture,\n",
    "    counts,\n",
    ") = aggregation_mesh.aggregate_viewpoints_pytorch3d(segmentor_camera_set)\n",
    "max_class = np.argmax(face_texture, axis=1).astype(float)\n",
    "zeros_mask = np.sum(face_texture, axis=1) == 0\n",
    "max_class[zeros_mask] = np.nan\n",
    "aggregation_mesh.vis(\n",
    "    vis_scalars=max_class,\n",
    "    force_xvfb=True,\n",
    "    mesh_kwargs={\"cmap\": \"tab10\", \"clim\": (0, 9)},\n",
    "    screenshot_filename=Path(FIGURES_SAVE_FOLDER, \"aggregated_predicted_scene.png\"),\n",
    ")"
   ]
  }
 ],
 "metadata": {
  "kernelspec": {
   "display_name": "MVMT-dev",
   "language": "python",
   "name": "python3"
  },
  "language_info": {
   "codemirror_mode": {
    "name": "ipython",
    "version": 3
   },
   "file_extension": ".py",
   "mimetype": "text/x-python",
   "name": "python",
   "nbconvert_exporter": "python",
   "pygments_lexer": "ipython3",
   "version": "3.9.18"
  }
 },
 "nbformat": 4,
 "nbformat_minor": 2
}
